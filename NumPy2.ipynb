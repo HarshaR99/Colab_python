{
  "nbformat": 4,
  "nbformat_minor": 0,
  "metadata": {
    "colab": {
      "name": "NumPy2.ipynb",
      "provenance": [],
      "collapsed_sections": [],
      "toc_visible": true,
      "authorship_tag": "ABX9TyPTOmJXv/Ypa1nQVI4fk7rv",
      "include_colab_link": true
    },
    "kernelspec": {
      "name": "python3",
      "display_name": "Python 3"
    }
  },
  "cells": [
    {
      "cell_type": "markdown",
      "metadata": {
        "id": "view-in-github",
        "colab_type": "text"
      },
      "source": [
        "<a href=\"https://colab.research.google.com/github/HarshaR99/Colab_python/blob/master/NumPy2.ipynb\" target=\"_parent\"><img src=\"https://colab.research.google.com/assets/colab-badge.svg\" alt=\"Open In Colab\"/></a>"
      ]
    },
    {
      "cell_type": "code",
      "metadata": {
        "id": "ZJ9OvBIM6vXd",
        "colab_type": "code",
        "colab": {}
      },
      "source": [
        "import numpy as np"
      ],
      "execution_count": 0,
      "outputs": []
    },
    {
      "cell_type": "markdown",
      "metadata": {
        "id": "KF4wnjz8IE0Y",
        "colab_type": "text"
      },
      "source": [
        "[https://www.sharpsightlabs.com/blog/numpy-axes-explained/](https://)\n",
        "\n",
        "This article has a good explanation for understading axes for 1-D and 2-D NumPy arrays\n",
        "\n",
        "---\n",
        "\n"
      ]
    },
    {
      "cell_type": "markdown",
      "metadata": {
        "id": "jUjMbnZO6G3I",
        "colab_type": "text"
      },
      "source": [
        "While copying numpy array maintain caution as you are assigning pointer to the new numpy array variable. Any change in one varibale will reflect in the other variable.\n",
        "\n",
        "---\n",
        "\n",
        "\n",
        "Hence use the copy() function"
      ]
    },
    {
      "cell_type": "code",
      "metadata": {
        "id": "4DEIOXOE5otX",
        "colab_type": "code",
        "outputId": "d606cea9-0312-41f0-a374-1dc3bbdd1c3c",
        "colab": {
          "base_uri": "https://localhost:8080/",
          "height": 34
        }
      },
      "source": [
        "  a = np.array([1,2,3])\n",
        "  b = a\n",
        "  b[0] = 100\n",
        "  print(a)"
      ],
      "execution_count": 0,
      "outputs": [
        {
          "output_type": "stream",
          "text": [
            "[100   2   3]\n"
          ],
          "name": "stdout"
        }
      ]
    },
    {
      "cell_type": "code",
      "metadata": {
        "id": "SAxTBJdi7JTu",
        "colab_type": "code",
        "outputId": "d9bd0a11-79c2-40f7-ddac-725481b84c2b",
        "colab": {
          "base_uri": "https://localhost:8080/",
          "height": 34
        }
      },
      "source": [
        "# how to avoid the mistake\n",
        "a = np.array([1,2,3])\n",
        "b = a.copy()             # copy function \n",
        "b[0] = 100\n",
        "print(a)"
      ],
      "execution_count": 0,
      "outputs": [
        {
          "output_type": "stream",
          "text": [
            "[1 2 3]\n"
          ],
          "name": "stdout"
        }
      ]
    },
    {
      "cell_type": "markdown",
      "metadata": {
        "id": "Uiw9OGYnAi60",
        "colab_type": "text"
      },
      "source": [
        "Performing mathematical operations "
      ]
    },
    {
      "cell_type": "code",
      "metadata": {
        "id": "vwv0XtKJAxcu",
        "colab_type": "code",
        "colab": {}
      },
      "source": [
        "m = np.array([1,2,3])"
      ],
      "execution_count": 0,
      "outputs": []
    },
    {
      "cell_type": "code",
      "metadata": {
        "id": "1yk_SUigBaL7",
        "colab_type": "code",
        "outputId": "ee2a31bf-cb92-45fd-af56-2c5003685116",
        "colab": {
          "base_uri": "https://localhost:8080/",
          "height": 34
        }
      },
      "source": [
        "m = m -2\n",
        "print(m)"
      ],
      "execution_count": 0,
      "outputs": [
        {
          "output_type": "stream",
          "text": [
            "[-1  0  1]\n"
          ],
          "name": "stdout"
        }
      ]
    },
    {
      "cell_type": "code",
      "metadata": {
        "id": "-A-FqUyxBi_1",
        "colab_type": "code",
        "outputId": "b90a80df-b10e-42b5-c388-e8102f15150b",
        "colab": {
          "base_uri": "https://localhost:8080/",
          "height": 34
        }
      },
      "source": [
        "m *= 2\n",
        "print(m)"
      ],
      "execution_count": 0,
      "outputs": [
        {
          "output_type": "stream",
          "text": [
            "[-2  0  2]\n"
          ],
          "name": "stdout"
        }
      ]
    },
    {
      "cell_type": "code",
      "metadata": {
        "id": "SEMKFKvOBsgo",
        "colab_type": "code",
        "outputId": "a6da4486-b411-4783-f08c-a8fd6c80257a",
        "colab": {
          "base_uri": "https://localhost:8080/",
          "height": 34
        }
      },
      "source": [
        "# Trignometric operations\n",
        "np.sin(m)        # radians ?"
      ],
      "execution_count": 0,
      "outputs": [
        {
          "output_type": "execute_result",
          "data": {
            "text/plain": [
              "array([-0.90929743,  0.        ,  0.90929743])"
            ]
          },
          "metadata": {
            "tags": []
          },
          "execution_count": 16
        }
      ]
    },
    {
      "cell_type": "markdown",
      "metadata": {
        "id": "gnsP8tALGE_J",
        "colab_type": "text"
      },
      "source": [
        "#Linear Algerba"
      ]
    },
    {
      "cell_type": "code",
      "metadata": {
        "id": "uKUJGuhqGIWY",
        "colab_type": "code",
        "outputId": "44a80428-cc66-4d28-8b03-bce6ec74a861",
        "colab": {
          "base_uri": "https://localhost:8080/",
          "height": 68
        }
      },
      "source": [
        "# matrix muliplication\n",
        "a = np.ones((3,2))\n",
        "b = np.full((2,3),2)\n",
        "np.matmul(a,b)"
      ],
      "execution_count": 0,
      "outputs": [
        {
          "output_type": "execute_result",
          "data": {
            "text/plain": [
              "array([[4., 4., 4.],\n",
              "       [4., 4., 4.],\n",
              "       [4., 4., 4.]])"
            ]
          },
          "metadata": {
            "tags": []
          },
          "execution_count": 17
        }
      ]
    },
    {
      "cell_type": "code",
      "metadata": {
        "id": "4_uebGg8Grhc",
        "colab_type": "code",
        "outputId": "0b25913e-7e58-4e2e-9149-660c93bd084c",
        "colab": {
          "base_uri": "https://localhost:8080/",
          "height": 34
        }
      },
      "source": [
        "# Find the determinent \n",
        "c = np.identity(3)\n",
        "np.linalg.det(c)"
      ],
      "execution_count": 0,
      "outputs": [
        {
          "output_type": "execute_result",
          "data": {
            "text/plain": [
              "1.0"
            ]
          },
          "metadata": {
            "tags": []
          },
          "execution_count": 19
        }
      ]
    },
    {
      "cell_type": "markdown",
      "metadata": {
        "id": "ZOteqCI_K6Vx",
        "colab_type": "text"
      },
      "source": [
        "There are many more operations like  *trace ,eigen values,inverse*  that can be done which can be referred from the documentation."
      ]
    },
    {
      "cell_type": "markdown",
      "metadata": {
        "id": "wGHdTHJCKxfz",
        "colab_type": "text"
      },
      "source": [
        "#Statistics"
      ]
    },
    {
      "cell_type": "code",
      "metadata": {
        "id": "uIgV0yIyK6xP",
        "colab_type": "code",
        "colab": {}
      },
      "source": [
        "stats = np.array([[1,2,3],[4,5,6]])"
      ],
      "execution_count": 0,
      "outputs": []
    },
    {
      "cell_type": "code",
      "metadata": {
        "id": "mBtrKi_gLSuD",
        "colab_type": "code",
        "outputId": "e7db4558-8724-4b88-efbb-c94a2c75f662",
        "colab": {
          "base_uri": "https://localhost:8080/",
          "height": 34
        }
      },
      "source": [
        "# to find minimum\n",
        "np.min(stats)"
      ],
      "execution_count": 0,
      "outputs": [
        {
          "output_type": "execute_result",
          "data": {
            "text/plain": [
              "1"
            ]
          },
          "metadata": {
            "tags": []
          },
          "execution_count": 3
        }
      ]
    },
    {
      "cell_type": "code",
      "metadata": {
        "id": "zvE7bq12LbvZ",
        "colab_type": "code",
        "outputId": "f942cafc-abde-43c6-e5ec-60ab7fe32db7",
        "colab": {
          "base_uri": "https://localhost:8080/",
          "height": 34
        }
      },
      "source": [
        "# to find maximum along an axis\n",
        "np.max(stats,axis = 1)"
      ],
      "execution_count": 0,
      "outputs": [
        {
          "output_type": "execute_result",
          "data": {
            "text/plain": [
              "array([3, 6])"
            ]
          },
          "metadata": {
            "tags": []
          },
          "execution_count": 4
        }
      ]
    },
    {
      "cell_type": "code",
      "metadata": {
        "id": "31eI1qzfL2L4",
        "colab_type": "code",
        "outputId": "76b232ce-3f10-437d-e49a-17f1dc048cc2",
        "colab": {
          "base_uri": "https://localhost:8080/",
          "height": 51
        }
      },
      "source": [
        "# to calculate sum\n",
        "print(np.sum(stats))\n",
        "print(np.sum(stats,axis=0))"
      ],
      "execution_count": 0,
      "outputs": [
        {
          "output_type": "stream",
          "text": [
            "21\n",
            "[5 7 9]\n"
          ],
          "name": "stdout"
        }
      ]
    },
    {
      "cell_type": "markdown",
      "metadata": {
        "id": "zA9yONl7G2rs",
        "colab_type": "text"
      },
      "source": [
        "#Restructuring NumPy Arrays"
      ]
    },
    {
      "cell_type": "code",
      "metadata": {
        "id": "y1VRiuxPG1Qi",
        "colab_type": "code",
        "outputId": "6ac2f20c-0d65-4f6b-aef5-c96458208ad4",
        "colab": {
          "base_uri": "https://localhost:8080/",
          "height": 119
        }
      },
      "source": [
        "before = np.array([[1,2,3,4],[5,6,7,8]])\n",
        "print(before.shape)\n",
        "after = before.reshape((2,2,2))\n",
        "print(after)"
      ],
      "execution_count": 0,
      "outputs": [
        {
          "output_type": "stream",
          "text": [
            "(2, 4)\n",
            "[[[1 2]\n",
            "  [3 4]]\n",
            "\n",
            " [[5 6]\n",
            "  [7 8]]]\n"
          ],
          "name": "stdout"
        }
      ]
    },
    {
      "cell_type": "code",
      "metadata": {
        "id": "7kQmDCy1H1od",
        "colab_type": "code",
        "outputId": "820ede92-2405-4449-88e6-27a4203326c3",
        "colab": {
          "base_uri": "https://localhost:8080/",
          "height": 51
        }
      },
      "source": [
        "# Vertically Stacking Arrays\n",
        "# all the input array dimensions for the concatenation axis must match exactly\n",
        "v1 = np.array([1,2,3])\n",
        "v2 = np.array([4,5,6])\n",
        "np.vstack([v1,v2])\n",
        "# can also do vertical stack"
      ],
      "execution_count": 0,
      "outputs": [
        {
          "output_type": "execute_result",
          "data": {
            "text/plain": [
              "array([[1, 2, 3],\n",
              "       [4, 5, 6]])"
            ]
          },
          "metadata": {
            "tags": []
          },
          "execution_count": 13
        }
      ]
    },
    {
      "cell_type": "code",
      "metadata": {
        "id": "RgDITxwKJaUl",
        "colab_type": "code",
        "outputId": "9927dbb6-df63-4f8b-c16e-518519736df4",
        "colab": {
          "base_uri": "https://localhost:8080/",
          "height": 185
        }
      },
      "source": [
        "# do no have any data set as of now yet\n",
        "np.genfromtxt('data.txt',delimiter=',')"
      ],
      "execution_count": 1,
      "outputs": [
        {
          "output_type": "error",
          "ename": "NameError",
          "evalue": "ignored",
          "traceback": [
            "\u001b[0;31m---------------------------------------------------------------------------\u001b[0m",
            "\u001b[0;31mNameError\u001b[0m                                 Traceback (most recent call last)",
            "\u001b[0;32m<ipython-input-1-d16f1330b5a2>\u001b[0m in \u001b[0;36m<module>\u001b[0;34m()\u001b[0m\n\u001b[1;32m      1\u001b[0m \u001b[0;31m# do no have any data set as of now yet\u001b[0m\u001b[0;34m\u001b[0m\u001b[0;34m\u001b[0m\u001b[0;34m\u001b[0m\u001b[0m\n\u001b[0;32m----> 2\u001b[0;31m \u001b[0mnp\u001b[0m\u001b[0;34m.\u001b[0m\u001b[0mgenfromtxt\u001b[0m\u001b[0;34m(\u001b[0m\u001b[0;34m'data.txt'\u001b[0m\u001b[0;34m,\u001b[0m\u001b[0mdelimiter\u001b[0m\u001b[0;34m=\u001b[0m\u001b[0;34m','\u001b[0m\u001b[0;34m)\u001b[0m\u001b[0;34m\u001b[0m\u001b[0;34m\u001b[0m\u001b[0m\n\u001b[0m",
            "\u001b[0;31mNameError\u001b[0m: name 'np' is not defined"
          ]
        }
      ]
    }
  ]
}