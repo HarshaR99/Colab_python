{
  "nbformat": 4,
  "nbformat_minor": 0,
  "metadata": {
    "colab": {
      "name": "Lists and Tupules.ipynb",
      "provenance": [],
      "authorship_tag": "ABX9TyNddMNGf3kFPP/0qbUw2AzJ",
      "include_colab_link": true
    },
    "kernelspec": {
      "name": "python3",
      "display_name": "Python 3"
    }
  },
  "cells": [
    {
      "cell_type": "markdown",
      "metadata": {
        "id": "view-in-github",
        "colab_type": "text"
      },
      "source": [
        "<a href=\"https://colab.research.google.com/github/HarshaR99/Colab_python/blob/master/Lists_and_Tupules.ipynb\" target=\"_parent\"><img src=\"https://colab.research.google.com/assets/colab-badge.svg\" alt=\"Open In Colab\"/></a>"
      ]
    },
    {
      "cell_type": "markdown",
      "metadata": {
        "id": "hvcbaA4h26aK",
        "colab_type": "text"
      },
      "source": [
        "#Adding elements to a list\n",
        "This can be done using the \n",
        "\n",
        "*   append\n",
        "*   insert functions\n",
        "\n"
      ]
    },
    {
      "cell_type": "code",
      "metadata": {
        "id": "VwdvclmWOSpl",
        "colab_type": "code",
        "outputId": "39956cf5-6824-41de-811c-d3b7f29e0873",
        "colab": {
          "base_uri": "https://localhost:8080/",
          "height": 35
        }
      },
      "source": [
        "arr = list()\n",
        "arr.append(1)\n",
        "arr.insert(0,1)\n",
        "arr.insert(100,9)\n",
        "print(arr)"
      ],
      "execution_count": 0,
      "outputs": [
        {
          "output_type": "stream",
          "text": [
            "[1, 1, 9]\n"
          ],
          "name": "stdout"
        }
      ]
    },
    {
      "cell_type": "markdown",
      "metadata": {
        "id": "1mv7tTwf3nrN",
        "colab_type": "text"
      },
      "source": [
        "#Removing elements from a list\n",
        "\n",
        "*   pop\n",
        "*   remove\n",
        "\n",
        "\n",
        "pop removes the last element of list"
      ]
    },
    {
      "cell_type": "code",
      "metadata": {
        "id": "4XjOolDi3rmw",
        "colab_type": "code",
        "outputId": "a314654a-a3ce-4fb0-cc74-a8682d7e5bb7",
        "colab": {
          "base_uri": "https://localhost:8080/",
          "height": 54
        }
      },
      "source": [
        "arr[0] = 0\n",
        "arr.pop()\n",
        "print(arr)\n",
        "\n",
        "# pop can remove an element from specified indes\n",
        "print(arr.pop(0))"
      ],
      "execution_count": 0,
      "outputs": [
        {
          "output_type": "stream",
          "text": [
            "[0, 1]\n",
            "0\n"
          ],
          "name": "stdout"
        }
      ]
    },
    {
      "cell_type": "code",
      "metadata": {
        "id": "VC2l5J5X472C",
        "colab_type": "code",
        "outputId": "b979fa5f-3bf6-4413-c6ba-18504892ee06",
        "colab": {
          "base_uri": "https://localhost:8080/",
          "height": 35
        }
      },
      "source": [
        "arr.remove(1)\n",
        "print(arr)"
      ],
      "execution_count": 0,
      "outputs": [
        {
          "output_type": "stream",
          "text": [
            "[]\n"
          ],
          "name": "stdout"
        }
      ]
    },
    {
      "cell_type": "markdown",
      "metadata": {
        "id": "ue2z4AHVFM3J",
        "colab_type": "text"
      },
      "source": [
        "#Tuples\n",
        " Tuples can be useful when we need to ensure that an element is in a certain position and will not change."
      ]
    },
    {
      "cell_type": "code",
      "metadata": {
        "id": "zjUXZ1GfFRxY",
        "colab_type": "code",
        "outputId": "9b2c7796-9ac7-4e0b-adc2-62667359129f",
        "colab": {
          "base_uri": "https://localhost:8080/",
          "height": 54
        }
      },
      "source": [
        "#function to convert seconds to hh:mm:ss\n",
        "def convertFromSeconds(seconds):\n",
        "  hours = seconds // 3600\n",
        "  minutes = ( seconds - hours*3600 ) // 60\n",
        "  secs = seconds - hours*3600 - minutes*60\n",
        "  return hours, minutes, secs # this is returned as a tuple\n",
        "\n",
        "time = convertFromSeconds(7654)\n",
        "print(type(time))\n",
        "print(time)"
      ],
      "execution_count": 0,
      "outputs": [
        {
          "output_type": "stream",
          "text": [
            "<class 'tuple'>\n",
            "(2, 7, 34)\n"
          ],
          "name": "stdout"
        }
      ]
    },
    {
      "cell_type": "markdown",
      "metadata": {
        "id": "mJf7Hs3nGxYk",
        "colab_type": "text"
      },
      "source": [
        "***Unpacking a tuple***\n",
        "\n",
        "We store values of n elements of a tuple in n separate variables"
      ]
    },
    {
      "cell_type": "code",
      "metadata": {
        "id": "HIgJZHFHGtaW",
        "colab_type": "code",
        "outputId": "7b6216ac-9878-45b8-e3df-49916419d8fd",
        "colab": {
          "base_uri": "https://localhost:8080/",
          "height": 35
        }
      },
      "source": [
        "hrs , mins , secs = convertFromSeconds(1000)\n",
        "print(hrs, mins, secs)"
      ],
      "execution_count": 0,
      "outputs": [
        {
          "output_type": "stream",
          "text": [
            "0 16 40\n"
          ],
          "name": "stdout"
        }
      ]
    },
    {
      "cell_type": "code",
      "metadata": {
        "id": "EVXD_Q1MVu_b",
        "colab_type": "code",
        "outputId": "f640323c-cff6-4053-c8b7-eb1a966bcfbd",
        "colab": {
          "base_uri": "https://localhost:8080/",
          "height": 90
        }
      },
      "source": [
        "#enumerate function\n",
        "# this returns a tuple of the index , value of each element of array\n",
        "names = ['John','Hetor','Harun','Rama']\n",
        "for index,name in enumerate(names):\n",
        "  print('{} - {}'.format(index,name))"
      ],
      "execution_count": 0,
      "outputs": [
        {
          "output_type": "stream",
          "text": [
            "0 - John\n",
            "1 - Hetor\n",
            "2 - Harun\n",
            "3 - Rama\n"
          ],
          "name": "stdout"
        }
      ]
    },
    {
      "cell_type": "markdown",
      "metadata": {
        "id": "Tu-WdeojfqUL",
        "colab_type": "text"
      },
      "source": [
        "#List Comprehension\n",
        "\n",
        "Q. create a list from 7 to 70 using List comprehension"
      ]
    },
    {
      "cell_type": "code",
      "metadata": {
        "id": "IxtIIveGVuuH",
        "colab_type": "code",
        "outputId": "00429933-7133-40f0-e037-a9924be8a2a1",
        "colab": {
          "base_uri": "https://localhost:8080/",
          "height": 35
        }
      },
      "source": [
        "multiples = [ x*7 for x in range(1,11)]\n",
        "print(multiples)"
      ],
      "execution_count": 0,
      "outputs": [
        {
          "output_type": "stream",
          "text": [
            "[7, 14, 21, 28, 35, 42, 49, 56, 63, 70]\n"
          ],
          "name": "stdout"
        }
      ]
    },
    {
      "cell_type": "markdown",
      "metadata": {
        "id": "W_E00NLAf6rz",
        "colab_type": "text"
      },
      "source": [
        "Q. Complete the skip_elements function to return every other element from the list, this time using a list comprehension to generate the new list based on the previous one, where elements in odd positions are skipped."
      ]
    },
    {
      "cell_type": "code",
      "metadata": {
        "id": "RQeIUJ9EfxQI",
        "colab_type": "code",
        "outputId": "6d23a728-c809-4e54-ee5a-6e83362e75e3",
        "colab": {
          "base_uri": "https://localhost:8080/",
          "height": 54
        }
      },
      "source": [
        "def skip_elements(elements):\n",
        "\treturn [x for i,x in enumerate(elements) if i%2 == 0]  \n",
        "\n",
        "print(skip_elements([\"a\", \"b\", \"c\", \"d\", \"e\", \"f\", \"g\"])) # Should be ['a', 'c', 'e', 'g']\n",
        "print(skip_elements(['Orange', 'Pineapple', 'Strawberry', 'Kiwi', 'Peach'])) # Should be ['Orange', 'Strawberry', 'Peach']"
      ],
      "execution_count": 0,
      "outputs": [
        {
          "output_type": "stream",
          "text": [
            "['a', 'c', 'e', 'g']\n",
            "['Orange', 'Strawberry', 'Peach']\n"
          ],
          "name": "stdout"
        }
      ]
    },
    {
      "cell_type": "markdown",
      "metadata": {
        "id": "CyUUWoaIgycY",
        "colab_type": "text"
      },
      "source": [
        "Find length of each element of list"
      ]
    },
    {
      "cell_type": "code",
      "metadata": {
        "id": "tjFLIUYBg4fq",
        "colab_type": "code",
        "outputId": "f7d68a31-de13-472f-b78d-75f734713b5e",
        "colab": {
          "base_uri": "https://localhost:8080/",
          "height": 35
        }
      },
      "source": [
        "languages = ['Python','Java','C++','Perl','PHP','C']\n",
        "lengths = [len(language) for language in languages]\n",
        "print(lengths)"
      ],
      "execution_count": 0,
      "outputs": [
        {
          "output_type": "stream",
          "text": [
            "[6, 4, 3, 4, 3, 1]\n"
          ],
          "name": "stdout"
        }
      ]
    },
    {
      "cell_type": "code",
      "metadata": {
        "id": "eZOXuT4M8fzW",
        "colab_type": "code",
        "colab": {
          "base_uri": "https://localhost:8080/",
          "height": 34
        },
        "outputId": "c143edbf-68cb-4346-c0e5-8ce4306705cd"
      },
      "source": [
        "a,b = 1,2\n",
        "print(a,b)"
      ],
      "execution_count": 1,
      "outputs": [
        {
          "output_type": "stream",
          "text": [
            "1 2\n"
          ],
          "name": "stdout"
        }
      ]
    }
  ]
}