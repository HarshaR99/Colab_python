{
  "nbformat": 4,
  "nbformat_minor": 0,
  "metadata": {
    "colab": {
      "name": "NumPy1.ipynb",
      "provenance": [],
      "collapsed_sections": [],
      "authorship_tag": "ABX9TyOUr2+XBkXZRkBGVr0xp/Dt",
      "include_colab_link": true
    },
    "kernelspec": {
      "name": "python3",
      "display_name": "Python 3"
    }
  },
  "cells": [
    {
      "cell_type": "markdown",
      "metadata": {
        "id": "view-in-github",
        "colab_type": "text"
      },
      "source": [
        "<a href=\"https://colab.research.google.com/github/HarshaR99/Colab_python/blob/master/NumPy1.ipynb\" target=\"_parent\"><img src=\"https://colab.research.google.com/assets/colab-badge.svg\" alt=\"Open In Colab\"/></a>"
      ]
    },
    {
      "cell_type": "code",
      "metadata": {
        "id": "LYyOQM2myxCg",
        "colab_type": "code",
        "colab": {}
      },
      "source": [
        "import numpy as np"
      ],
      "execution_count": 0,
      "outputs": []
    },
    {
      "cell_type": "markdown",
      "metadata": {
        "id": "YQNhZJZAI-dv",
        "colab_type": "text"
      },
      "source": [
        "[https://www.youtube.com/watch?v=QUT1VHiLmmI&t=2600s](https://)\n",
        "\n",
        "Followed this course for NumPy\n",
        "\n",
        "---\n",
        "\n"
      ]
    },
    {
      "cell_type": "markdown",
      "metadata": {
        "id": "bgpOlH4X3Uaq",
        "colab_type": "text"
      },
      "source": [
        "Initialising an array"
      ]
    },
    {
      "cell_type": "code",
      "metadata": {
        "id": "ZCLeEQMI3Wyo",
        "colab_type": "code",
        "outputId": "b538ce7b-64af-41df-f278-4028c426a792",
        "colab": {
          "base_uri": "https://localhost:8080/",
          "height": 52
        }
      },
      "source": [
        "a = np.array([[1,2,3],[4,5,6]])\n",
        "print(a)"
      ],
      "execution_count": 6,
      "outputs": [
        {
          "output_type": "stream",
          "text": [
            "[[1 2 3]\n",
            " [4 5 6]]\n"
          ],
          "name": "stdout"
        }
      ]
    },
    {
      "cell_type": "markdown",
      "metadata": {
        "id": "a55xwIRy33aT",
        "colab_type": "text"
      },
      "source": [
        "Get number of dimensions"
      ]
    },
    {
      "cell_type": "code",
      "metadata": {
        "id": "xhOizlGS372i",
        "colab_type": "code",
        "outputId": "5bdc2c2c-da7f-43fd-db6b-56946407ea4e",
        "colab": {
          "base_uri": "https://localhost:8080/",
          "height": 34
        }
      },
      "source": [
        "a.ndim"
      ],
      "execution_count": 0,
      "outputs": [
        {
          "output_type": "execute_result",
          "data": {
            "text/plain": [
              "2"
            ]
          },
          "metadata": {
            "tags": []
          },
          "execution_count": 3
        }
      ]
    },
    {
      "cell_type": "markdown",
      "metadata": {
        "id": "LBqcVKSi4UrX",
        "colab_type": "text"
      },
      "source": [
        "Get shape of (vector?)"
      ]
    },
    {
      "cell_type": "code",
      "metadata": {
        "id": "34AjGgws4jeH",
        "colab_type": "code",
        "outputId": "71876473-6a67-4814-c643-e35f1e2fe12f",
        "colab": {
          "base_uri": "https://localhost:8080/",
          "height": 34
        }
      },
      "source": [
        "a.shape"
      ],
      "execution_count": 0,
      "outputs": [
        {
          "output_type": "execute_result",
          "data": {
            "text/plain": [
              "(2, 3)"
            ]
          },
          "metadata": {
            "tags": []
          },
          "execution_count": 4
        }
      ]
    },
    {
      "cell_type": "markdown",
      "metadata": {
        "id": "US_8nHOY5C6_",
        "colab_type": "text"
      },
      "source": [
        "Get datatype and to initialze array of desired datasize"
      ]
    },
    {
      "cell_type": "code",
      "metadata": {
        "id": "CCTQtAX35K4j",
        "colab_type": "code",
        "colab": {}
      },
      "source": [
        "# Get dtype of Numpy array\n",
        "a.dtype\n",
        "# initialzie array of required size\n",
        "b = np.array([1,2,3],dtype = 'int16')"
      ],
      "execution_count": 0,
      "outputs": []
    },
    {
      "cell_type": "markdown",
      "metadata": {
        "id": "nwus4t3W58i0",
        "colab_type": "text"
      },
      "source": [
        "Get number of bytes of 1 item ."
      ]
    },
    {
      "cell_type": "code",
      "metadata": {
        "id": "RECzLTOv6G4Q",
        "colab_type": "code",
        "outputId": "0bcf6e86-3dbf-47d8-b5b8-97535339ec36",
        "colab": {
          "base_uri": "https://localhost:8080/",
          "height": 34
        }
      },
      "source": [
        "# int16 hence 2 bytes\n",
        "b.itemsize"
      ],
      "execution_count": 0,
      "outputs": [
        {
          "output_type": "execute_result",
          "data": {
            "text/plain": [
              "2"
            ]
          },
          "metadata": {
            "tags": []
          },
          "execution_count": 6
        }
      ]
    },
    {
      "cell_type": "markdown",
      "metadata": {
        "id": "qOWHlurK7IcV",
        "colab_type": "text"
      },
      "source": [
        "get size of array and total size"
      ]
    },
    {
      "cell_type": "code",
      "metadata": {
        "id": "iJKCgvuM7Nz3",
        "colab_type": "code",
        "outputId": "46b1fae0-78df-4285-e123-66931e6ee059",
        "colab": {
          "base_uri": "https://localhost:8080/",
          "height": 68
        }
      },
      "source": [
        "print('b.size:',b.size)\n",
        "# now for totalsize\n",
        "print('b.size * b.itemsize:',b.size * b.itemsize)\n",
        "print('b.nbytes:',b.nbytes)"
      ],
      "execution_count": 0,
      "outputs": [
        {
          "output_type": "stream",
          "text": [
            "b.size: 3\n",
            "b.size * b.itemsize: 6\n",
            "b.nbytes: 6\n"
          ],
          "name": "stdout"
        }
      ]
    },
    {
      "cell_type": "markdown",
      "metadata": {
        "id": "rcUVhzRAsUFO",
        "colab_type": "text"
      },
      "source": [
        "# Initializsing different types of arrays"
      ]
    },
    {
      "cell_type": "code",
      "metadata": {
        "id": "QnsOsvZesgS9",
        "colab_type": "code",
        "outputId": "19ad6719-2b5a-4449-98bd-dfdfc4fc625c",
        "colab": {
          "base_uri": "https://localhost:8080/",
          "height": 139
        }
      },
      "source": [
        "# All zeros matrix\n",
        "# Takes shape as parameter\n",
        "zero_mat = np.zeros((2,3,1))  # two pairs of parantheses ?\n",
        "print(zero_mat)"
      ],
      "execution_count": 3,
      "outputs": [
        {
          "output_type": "stream",
          "text": [
            "[[[0.]\n",
            "  [0.]\n",
            "  [0.]]\n",
            "\n",
            " [[0.]\n",
            "  [0.]\n",
            "  [0.]]]\n"
          ],
          "name": "stdout"
        }
      ]
    },
    {
      "cell_type": "markdown",
      "metadata": {
        "id": "NJB0WE8nN6aX",
        "colab_type": "text"
      },
      "source": [
        "Explanation of structure of np array from outside to deepest nested state :\n",
        "\n",
        "1.   [ [x], [x] ] the will \"2\" arrays nested in outermost array \n",
        "2.   x-> [ [y], [y], [y] ] where there are \"3\" arrays nested in   array x\n",
        "3. y->[0] there is one array containing a zero in array y\n",
        "\n",
        "2 -> 3 -> 1\n",
        "\n",
        "\n",
        "\n",
        "\n",
        "\n"
      ]
    },
    {
      "cell_type": "code",
      "metadata": {
        "id": "mgjMCGNJtV-z",
        "colab_type": "code",
        "outputId": "ee3e23ed-90b0-4e66-d319-d84218ab273c",
        "colab": {
          "base_uri": "https://localhost:8080/",
          "height": 153
        }
      },
      "source": [
        "# All one's matrix\n",
        "ones_mat = np.ones((3,2,1),dtype = 'int16') # can also specify datatype\n",
        "print(ones_mat)"
      ],
      "execution_count": 0,
      "outputs": [
        {
          "output_type": "stream",
          "text": [
            "[[[1]\n",
            "  [1]]\n",
            "\n",
            " [[1]\n",
            "  [1]]\n",
            "\n",
            " [[1]\n",
            "  [1]]]\n"
          ],
          "name": "stdout"
        }
      ]
    },
    {
      "cell_type": "code",
      "metadata": {
        "id": "tyT9g4Gvt7TJ",
        "colab_type": "code",
        "outputId": "fe418bb0-af66-490c-806d-c398d0b83280",
        "colab": {
          "base_uri": "https://localhost:8080/",
          "height": 52
        }
      },
      "source": [
        "# A matrix filled with any other number\n",
        "any_mat = np.full((2,2),7)\n",
        "print(any_mat)"
      ],
      "execution_count": 4,
      "outputs": [
        {
          "output_type": "stream",
          "text": [
            "[[7 7]\n",
            " [7 7]]\n"
          ],
          "name": "stdout"
        }
      ]
    },
    {
      "cell_type": "code",
      "metadata": {
        "id": "scJa4JwLugRt",
        "colab_type": "code",
        "outputId": "9a992af3-6f07-49aa-b196-890a23e61a0b",
        "colab": {
          "base_uri": "https://localhost:8080/",
          "height": 51
        }
      },
      "source": [
        "np.ones((2,1))"
      ],
      "execution_count": 0,
      "outputs": [
        {
          "output_type": "execute_result",
          "data": {
            "text/plain": [
              "array([[1.],\n",
              "       [1.]])"
            ]
          },
          "metadata": {
            "tags": []
          },
          "execution_count": 14
        }
      ]
    },
    {
      "cell_type": "code",
      "metadata": {
        "id": "Nl4_OFJqvrwu",
        "colab_type": "code",
        "outputId": "f9d88382-2773-45e7-ad37-a5dd8e9e878e",
        "colab": {
          "base_uri": "https://localhost:8080/",
          "height": 85
        }
      },
      "source": [
        "# full_like\n",
        "c = np.full_like(a,4)\n",
        "print(c)\n",
        "np.full(a.shape,3)"
      ],
      "execution_count": 0,
      "outputs": [
        {
          "output_type": "stream",
          "text": [
            "[[4 4 4]\n",
            " [4 4 4]]\n"
          ],
          "name": "stdout"
        },
        {
          "output_type": "execute_result",
          "data": {
            "text/plain": [
              "array([[3, 3, 3],\n",
              "       [3, 3, 3]])"
            ]
          },
          "metadata": {
            "tags": []
          },
          "execution_count": 20
        }
      ]
    },
    {
      "cell_type": "markdown",
      "metadata": {
        "id": "vnuS5Ae9y4oI",
        "colab_type": "text"
      },
      "source": [
        "Initialising random decimal values in matrix"
      ]
    },
    {
      "cell_type": "markdown",
      "metadata": {
        "id": "OhuEOyQ_QmeN",
        "colab_type": "text"
      },
      "source": [
        "Random values of shape passed as parameter"
      ]
    },
    {
      "cell_type": "code",
      "metadata": {
        "id": "PO5dcroAzA8E",
        "colab_type": "code",
        "outputId": "1db34bfa-7ec2-4ceb-aa7a-bab5ff9d7590",
        "colab": {
          "base_uri": "https://localhost:8080/",
          "height": 68
        }
      },
      "source": [
        "np.random.rand(3,1)"
      ],
      "execution_count": 0,
      "outputs": [
        {
          "output_type": "execute_result",
          "data": {
            "text/plain": [
              "array([[0.61484068],\n",
              "       [0.64927894],\n",
              "       [0.33398093]])"
            ]
          },
          "metadata": {
            "tags": []
          },
          "execution_count": 21
        }
      ]
    },
    {
      "cell_type": "markdown",
      "metadata": {
        "id": "EHoSeYUfQsRr",
        "colab_type": "text"
      },
      "source": [
        ""
      ]
    },
    {
      "cell_type": "code",
      "metadata": {
        "id": "tOmJlqDdzY0I",
        "colab_type": "code",
        "outputId": "6be856fc-0314-4713-b8e3-e913347b7275",
        "colab": {
          "base_uri": "https://localhost:8080/",
          "height": 52
        }
      },
      "source": [
        "np.random.random_sample(a.shape) "
      ],
      "execution_count": 7,
      "outputs": [
        {
          "output_type": "execute_result",
          "data": {
            "text/plain": [
              "array([[0.48139654, 0.16507196, 0.31757702],\n",
              "       [0.01738777, 0.52937616, 0.77942752]])"
            ]
          },
          "metadata": {
            "tags": []
          },
          "execution_count": 7
        }
      ]
    },
    {
      "cell_type": "markdown",
      "metadata": {
        "id": "rMA8fENn0GbK",
        "colab_type": "text"
      },
      "source": [
        "Random integer values"
      ]
    },
    {
      "cell_type": "code",
      "metadata": {
        "id": "AewN3mP10JH1",
        "colab_type": "code",
        "outputId": "f825d0ed-0e88-4443-bcc8-bb41520d05df",
        "colab": {
          "base_uri": "https://localhost:8080/",
          "height": 51
        }
      },
      "source": [
        "# has integers between 0-7\n",
        "np.random.randint(7,size = (2,3))"
      ],
      "execution_count": 0,
      "outputs": [
        {
          "output_type": "execute_result",
          "data": {
            "text/plain": [
              "array([[6, 2, 5],\n",
              "       [3, 2, 3]])"
            ]
          },
          "metadata": {
            "tags": []
          },
          "execution_count": 26
        }
      ]
    },
    {
      "cell_type": "code",
      "metadata": {
        "id": "y0VAtf3u0aVY",
        "colab_type": "code",
        "outputId": "b8c216eb-0283-4c3d-ad65-f3a6ccbe7daf",
        "colab": {
          "base_uri": "https://localhost:8080/",
          "height": 34
        }
      },
      "source": [
        "# random integer values between a certain range\n",
        "np.random.randint(2,4,size = (1,3))"
      ],
      "execution_count": 0,
      "outputs": [
        {
          "output_type": "execute_result",
          "data": {
            "text/plain": [
              "array([[2, 2, 3]])"
            ]
          },
          "metadata": {
            "tags": []
          },
          "execution_count": 27
        }
      ]
    },
    {
      "cell_type": "code",
      "metadata": {
        "id": "vXGdpW402nV5",
        "colab_type": "code",
        "outputId": "3fe10bc8-44aa-4687-ce46-a231140b4b8f",
        "colab": {
          "base_uri": "https://localhost:8080/",
          "height": 68
        }
      },
      "source": [
        "# getting the identity matrix of desired size\n",
        "np.identity(3)"
      ],
      "execution_count": 0,
      "outputs": [
        {
          "output_type": "execute_result",
          "data": {
            "text/plain": [
              "array([[1., 0., 0.],\n",
              "       [0., 1., 0.],\n",
              "       [0., 0., 1.]])"
            ]
          },
          "metadata": {
            "tags": []
          },
          "execution_count": 28
        }
      ]
    }
  ]
}